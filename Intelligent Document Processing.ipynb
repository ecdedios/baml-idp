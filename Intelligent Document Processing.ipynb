{
 "cells": [
  {
   "cell_type": "code",
   "execution_count": 1,
   "id": "bb071e3d-362e-4c31-a71b-58e9cc19c0e1",
   "metadata": {},
   "outputs": [],
   "source": [
    "%load_ext autoreload\n",
    "%autoreload 2"
   ]
  },
  {
   "cell_type": "code",
   "execution_count": 2,
   "id": "c0856fad-31da-4159-b3fd-90399eb07a74",
   "metadata": {},
   "outputs": [],
   "source": [
    "from baml_py import Image\n",
    "from baml_client import b"
   ]
  },
  {
   "cell_type": "code",
   "execution_count": 3,
   "id": "f7135a5d-8160-4606-94bc-ad7c0714a8a2",
   "metadata": {},
   "outputs": [],
   "source": [
    "def extract_appointment_from_url(url: str):\n",
    "    \"\"\"\n",
    "    Extracts an image of a receipt stored at a URL.\n",
    "\n",
    "    Args:\n",
    "        url (str): The URL of the receipt image.\n",
    "\n",
    "    Returns:\n",
    "        dict: The receipt data. See the baml_src/idp.baml file for the structure of the appointment data.\n",
    "\n",
    "    Raises:\n",
    "        BamlValidationError: If the llm read of the image could not be parsed into the expected data model.\n",
    "    \"\"\"\n",
    "    img = Image.from_url(url)\n",
    "    output = b.ExtractAppointmentFromImage(img)\n",
    "    return output"
   ]
  },
  {
   "cell_type": "code",
   "execution_count": 4,
   "id": "8bdce624-2acc-4804-88fe-b5083ddf4a69",
   "metadata": {},
   "outputs": [
    {
     "data": {
      "text/plain": [
       "Appointment(day_of_week='Thursday', month='January', date=23, year=2025, hour=8, minute=15, ampm='am')"
      ]
     },
     "execution_count": 4,
     "metadata": {},
     "output_type": "execute_result"
    }
   ],
   "source": [
    "url = \"https://baml-testing-idp-image-to-json.s3.us-east-1.amazonaws.com/appointment.jpg\"\n",
    "extract_appointment_from_url(url)"
   ]
  }
 ],
 "metadata": {
  "kernelspec": {
   "display_name": "Python 3 (ipykernel)",
   "language": "python",
   "name": "python3"
  },
  "language_info": {
   "codemirror_mode": {
    "name": "ipython",
    "version": 3
   },
   "file_extension": ".py",
   "mimetype": "text/x-python",
   "name": "python",
   "nbconvert_exporter": "python",
   "pygments_lexer": "ipython3",
   "version": "3.12.4"
  }
 },
 "nbformat": 4,
 "nbformat_minor": 5
}

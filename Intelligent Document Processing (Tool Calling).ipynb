{
 "cells": [
  {
   "cell_type": "code",
   "execution_count": 1,
   "id": "899984b7-56e1-487b-910e-e59e3d09646b",
   "metadata": {},
   "outputs": [],
   "source": [
    "# !pip install baml-py pydantic pandas"
   ]
  },
  {
   "cell_type": "code",
   "execution_count": 2,
   "id": "bb071e3d-362e-4c31-a71b-58e9cc19c0e1",
   "metadata": {},
   "outputs": [],
   "source": [
    "%load_ext autoreload\n",
    "%autoreload 2"
   ]
  },
  {
   "cell_type": "code",
   "execution_count": 3,
   "id": "c0856fad-31da-4159-b3fd-90399eb07a74",
   "metadata": {},
   "outputs": [],
   "source": [
    "from baml_py import Image\n",
    "from baml_client import b\n",
    "from baml_client.types import Appointment, NutritionLabel, DropOffPackageReceipt\n",
    "import pandas as pd"
   ]
  },
  {
   "cell_type": "markdown",
   "id": "a6319e06-2c8e-4965-ae3b-b9359af288e7",
   "metadata": {},
   "source": [
    "## Tool Calling - One out of many"
   ]
  },
  {
   "cell_type": "code",
   "execution_count": 4,
   "id": "f7135a5d-8160-4606-94bc-ad7c0714a8a2",
   "metadata": {},
   "outputs": [],
   "source": [
    "def extract_info_from_url(url: str):\n",
    "    \"\"\"\n",
    "    Extracts details from an image at a URL.\n",
    "\n",
    "    Args:\n",
    "        url (str): The URL of a nutritional value label image.\n",
    "\n",
    "    Returns:\n",
    "        dict: The receipt data. See the baml_src/idp.baml file for the structure of the nutritional value data.\n",
    "\n",
    "    Raises:\n",
    "        BamlValidationError: If the llm read of the image could not be parsed into the expected data model.\n",
    "    \"\"\"\n",
    "    img = Image.from_url(url)\n",
    "    output = b.ChooseATool(img)\n",
    "    return output"
   ]
  },
  {
   "cell_type": "code",
   "execution_count": 5,
   "id": "8bdce624-2acc-4804-88fe-b5083ddf4a69",
   "metadata": {},
   "outputs": [
    {
     "name": "stdout",
     "output_type": "stream",
     "text": [
      "<class 'baml_client.types.NutritionLabel'>\n"
     ]
    },
    {
     "data": {
      "text/plain": [
       "NutritionLabel(product='Maruchan Instant Ramen', description='A hot snack or delicious meal, anytime.', calories=290, fat=12, fat_ui='g', fat_dv=15.0, sodium=1150, sodium_ui='mg', sodium_dv=50.0, carb=39, carb_ui='g', carb_dv=14.0, protein=6, protein_ui='g', protein_dv=None)"
      ]
     },
     "execution_count": 5,
     "metadata": {},
     "output_type": "execute_result"
    }
   ],
   "source": [
    "url = \"https://baml-testing-idp-image-to-json.s3.us-east-1.amazonaws.com/nutrition.jpg\"\n",
    "result = extract_info_from_url(url)\n",
    "print(type(result))\n",
    "result"
   ]
  },
  {
   "cell_type": "code",
   "execution_count": 6,
   "id": "01aaa9fa-b38c-4aa0-9a32-df7de7aa3e46",
   "metadata": {},
   "outputs": [
    {
     "name": "stdout",
     "output_type": "stream",
     "text": [
      "N called.\n"
     ]
    }
   ],
   "source": [
    "if isinstance (result, Appointment):\n",
    "    print(\"A called.\")\n",
    "elif isinstance (result, NutritionLabel):\n",
    "    print(\"N called.\")\n",
    "elif isinstance (result, DropOffPackageReceipt):\n",
    "    print(\"P called.\")"
   ]
  }
 ],
 "metadata": {
  "kernelspec": {
   "display_name": "Python 3 (ipykernel)",
   "language": "python",
   "name": "python3"
  },
  "language_info": {
   "codemirror_mode": {
    "name": "ipython",
    "version": 3
   },
   "file_extension": ".py",
   "mimetype": "text/x-python",
   "name": "python",
   "nbconvert_exporter": "python",
   "pygments_lexer": "ipython3",
   "version": "3.12.4"
  }
 },
 "nbformat": 4,
 "nbformat_minor": 5
}
